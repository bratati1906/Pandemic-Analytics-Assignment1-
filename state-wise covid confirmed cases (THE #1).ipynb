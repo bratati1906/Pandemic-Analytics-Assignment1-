{
 "cells": [
  {
   "cell_type": "code",
   "execution_count": 1,
   "metadata": {},
   "outputs": [],
   "source": [
    "import pandas as pd\n",
    "covid19_data1 = pd.read_csv(\"Bratati_covid19India.csv\")"
   ]
  },
  {
   "cell_type": "code",
   "execution_count": 2,
   "metadata": {},
   "outputs": [],
   "source": [
    "data2=covid19_data1.loc[\"3747\":\"3781\",\"Confirmed\"]"
   ]
  },
  {
   "cell_type": "code",
   "execution_count": 3,
   "metadata": {},
   "outputs": [],
   "source": [
    "data3=covid19_data1.loc[\"3747\":\"3781\",\"State/UnionTerritory\"]"
   ]
  },
  {
   "cell_type": "code",
   "execution_count": 8,
   "metadata": {},
   "outputs": [],
   "source": [
    "data4=pd.concat([data3,data2], axis=1)"
   ]
  },
  {
   "cell_type": "code",
   "execution_count": 9,
   "metadata": {},
   "outputs": [],
   "source": [
    "state_covid_confirmed=data4.set_index([pd.Index(list(range(35)))])\n"
   ]
  },
  {
   "cell_type": "code",
   "execution_count": 32,
   "metadata": {},
   "outputs": [],
   "source": [
    "data5 = state_covid_confirmed.T"
   ]
  },
  {
   "cell_type": "code",
   "execution_count": 33,
   "metadata": {},
   "outputs": [],
   "source": [
    "data6=data5.values.tolist()"
   ]
  },
  {
   "cell_type": "code",
   "execution_count": 36,
   "metadata": {},
   "outputs": [
    {
     "data": {
      "text/plain": [
       "['Andaman and Nicobar Islands',\n",
       " 'Andhra Pradesh',\n",
       " 'Arunachal Pradesh',\n",
       " 'Assam',\n",
       " 'Bihar',\n",
       " 'Chandigarh',\n",
       " 'Chhattisgarh',\n",
       " 'Dadra and Nagar Haveli and Daman and Diu',\n",
       " 'Delhi',\n",
       " 'Goa',\n",
       " 'Gujarat',\n",
       " 'Haryana',\n",
       " 'Himachal Pradesh',\n",
       " 'Jammu and Kashmir',\n",
       " 'Jharkhand',\n",
       " 'Karnataka',\n",
       " 'Kerala',\n",
       " 'Ladakh',\n",
       " 'Madhya Pradesh',\n",
       " 'Maharashtra',\n",
       " 'Manipur',\n",
       " 'Meghalaya',\n",
       " 'Mizoram',\n",
       " 'Nagaland',\n",
       " 'Odisha',\n",
       " 'Puducherry',\n",
       " 'Punjab',\n",
       " 'Rajasthan',\n",
       " 'Sikkim',\n",
       " 'Tamil Nadu',\n",
       " 'Telangana',\n",
       " 'Tripura',\n",
       " 'Uttarakhand',\n",
       " 'Uttar Pradesh',\n",
       " 'West Bengal']"
      ]
     },
     "execution_count": 36,
     "metadata": {},
     "output_type": "execute_result"
    }
   ],
   "source": [
    "list1=data6[0]\n",
    "list1"
   ]
  },
  {
   "cell_type": "code",
   "execution_count": 37,
   "metadata": {},
   "outputs": [
    {
     "data": {
      "text/plain": [
       "[119,\n",
       " 17699,\n",
       " 259,\n",
       " 10668,\n",
       " 11700,\n",
       " 460,\n",
       " 3161,\n",
       " 271,\n",
       " 97200,\n",
       " 1684,\n",
       " 35312,\n",
       " 16548,\n",
       " 1046,\n",
       " 8246,\n",
       " 2739,\n",
       " 21549,\n",
       " 5204,\n",
       " 1005,\n",
       " 14604,\n",
       " 200064,\n",
       " 1325,\n",
       " 62,\n",
       " 164,\n",
       " 563,\n",
       " 8601,\n",
       " 802,\n",
       " 6109,\n",
       " 19532,\n",
       " 103,\n",
       " 107001,\n",
       " 22312,\n",
       " 1546,\n",
       " 3093,\n",
       " 26554,\n",
       " 21231]"
      ]
     },
     "execution_count": 37,
     "metadata": {},
     "output_type": "execute_result"
    }
   ],
   "source": [
    "list2=data6[1]\n",
    "list2"
   ]
  },
  {
   "cell_type": "code",
   "execution_count": 45,
   "metadata": {},
   "outputs": [],
   "source": [
    "data_tuples = data4.to_records(index=False)"
   ]
  },
  {
   "cell_type": "code",
   "execution_count": 39,
   "metadata": {},
   "outputs": [
    {
     "name": "stdout",
     "output_type": "stream",
     "text": [
      "[('Andaman and Nicobar Islands',    119) ('Andhra Pradesh',  17699)\n",
      " ('Arunachal Pradesh',    259) ('Assam',  10668) ('Bihar',  11700)\n",
      " ('Chandigarh',    460) ('Chhattisgarh',   3161)\n",
      " ('Dadra and Nagar Haveli and Daman and Diu',    271) ('Delhi',  97200)\n",
      " ('Goa',   1684) ('Gujarat',  35312) ('Haryana',  16548)\n",
      " ('Himachal Pradesh',   1046) ('Jammu and Kashmir',   8246)\n",
      " ('Jharkhand',   2739) ('Karnataka',  21549) ('Kerala',   5204)\n",
      " ('Ladakh',   1005) ('Madhya Pradesh',  14604) ('Maharashtra', 200064)\n",
      " ('Manipur',   1325) ('Meghalaya',     62) ('Mizoram',    164)\n",
      " ('Nagaland',    563) ('Odisha',   8601) ('Puducherry',    802)\n",
      " ('Punjab',   6109) ('Rajasthan',  19532) ('Sikkim',    103)\n",
      " ('Tamil Nadu', 107001) ('Telangana',  22312) ('Tripura',   1546)\n",
      " ('Uttarakhand',   3093) ('Uttar Pradesh',  26554) ('West Bengal',  21231)]\n"
     ]
    }
   ],
   "source": [
    "print(data_tuples)"
   ]
  },
  {
   "cell_type": "code",
   "execution_count": 63,
   "metadata": {},
   "outputs": [],
   "source": [
    "data_dicts = data5.to_dict(orient = 'dict', )"
   ]
  },
  {
   "cell_type": "code",
   "execution_count": 64,
   "metadata": {},
   "outputs": [
    {
     "data": {
      "text/plain": [
       "{0: {'State/UnionTerritory': 'Andaman and Nicobar Islands', 'Confirmed': 119},\n",
       " 1: {'State/UnionTerritory': 'Andhra Pradesh', 'Confirmed': 17699},\n",
       " 2: {'State/UnionTerritory': 'Arunachal Pradesh', 'Confirmed': 259},\n",
       " 3: {'State/UnionTerritory': 'Assam', 'Confirmed': 10668},\n",
       " 4: {'State/UnionTerritory': 'Bihar', 'Confirmed': 11700},\n",
       " 5: {'State/UnionTerritory': 'Chandigarh', 'Confirmed': 460},\n",
       " 6: {'State/UnionTerritory': 'Chhattisgarh', 'Confirmed': 3161},\n",
       " 7: {'State/UnionTerritory': 'Dadra and Nagar Haveli and Daman and Diu',\n",
       "  'Confirmed': 271},\n",
       " 8: {'State/UnionTerritory': 'Delhi', 'Confirmed': 97200},\n",
       " 9: {'State/UnionTerritory': 'Goa', 'Confirmed': 1684},\n",
       " 10: {'State/UnionTerritory': 'Gujarat', 'Confirmed': 35312},\n",
       " 11: {'State/UnionTerritory': 'Haryana', 'Confirmed': 16548},\n",
       " 12: {'State/UnionTerritory': 'Himachal Pradesh', 'Confirmed': 1046},\n",
       " 13: {'State/UnionTerritory': 'Jammu and Kashmir', 'Confirmed': 8246},\n",
       " 14: {'State/UnionTerritory': 'Jharkhand', 'Confirmed': 2739},\n",
       " 15: {'State/UnionTerritory': 'Karnataka', 'Confirmed': 21549},\n",
       " 16: {'State/UnionTerritory': 'Kerala', 'Confirmed': 5204},\n",
       " 17: {'State/UnionTerritory': 'Ladakh', 'Confirmed': 1005},\n",
       " 18: {'State/UnionTerritory': 'Madhya Pradesh', 'Confirmed': 14604},\n",
       " 19: {'State/UnionTerritory': 'Maharashtra', 'Confirmed': 200064},\n",
       " 20: {'State/UnionTerritory': 'Manipur', 'Confirmed': 1325},\n",
       " 21: {'State/UnionTerritory': 'Meghalaya', 'Confirmed': 62},\n",
       " 22: {'State/UnionTerritory': 'Mizoram', 'Confirmed': 164},\n",
       " 23: {'State/UnionTerritory': 'Nagaland', 'Confirmed': 563},\n",
       " 24: {'State/UnionTerritory': 'Odisha', 'Confirmed': 8601},\n",
       " 25: {'State/UnionTerritory': 'Puducherry', 'Confirmed': 802},\n",
       " 26: {'State/UnionTerritory': 'Punjab', 'Confirmed': 6109},\n",
       " 27: {'State/UnionTerritory': 'Rajasthan', 'Confirmed': 19532},\n",
       " 28: {'State/UnionTerritory': 'Sikkim', 'Confirmed': 103},\n",
       " 29: {'State/UnionTerritory': 'Tamil Nadu', 'Confirmed': 107001},\n",
       " 30: {'State/UnionTerritory': 'Telangana', 'Confirmed': 22312},\n",
       " 31: {'State/UnionTerritory': 'Tripura', 'Confirmed': 1546},\n",
       " 32: {'State/UnionTerritory': 'Uttarakhand', 'Confirmed': 3093},\n",
       " 33: {'State/UnionTerritory': 'Uttar Pradesh', 'Confirmed': 26554},\n",
       " 34: {'State/UnionTerritory': 'West Bengal', 'Confirmed': 21231}}"
      ]
     },
     "execution_count": 64,
     "metadata": {},
     "output_type": "execute_result"
    }
   ],
   "source": [
    "data_dicts"
   ]
  },
  {
   "cell_type": "code",
   "execution_count": null,
   "metadata": {},
   "outputs": [],
   "source": []
  }
 ],
 "metadata": {
  "kernelspec": {
   "display_name": "Python 3",
   "language": "python",
   "name": "python3"
  },
  "language_info": {
   "codemirror_mode": {
    "name": "ipython",
    "version": 3
   },
   "file_extension": ".py",
   "mimetype": "text/x-python",
   "name": "python",
   "nbconvert_exporter": "python",
   "pygments_lexer": "ipython3",
   "version": "3.7.6"
  }
 },
 "nbformat": 4,
 "nbformat_minor": 4
}
