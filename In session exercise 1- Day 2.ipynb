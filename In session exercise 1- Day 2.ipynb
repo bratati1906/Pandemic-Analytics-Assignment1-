{
 "cells": [
  {
   "cell_type": "code",
   "execution_count": 1,
   "metadata": {},
   "outputs": [],
   "source": [
    "names_states=[\"Maharashtra\", \"Tamil Nadu\",\"Delhi\", \"Gujrat\", \"Uttar Pradesh\"]"
   ]
  },
  {
   "cell_type": "code",
   "execution_count": 2,
   "metadata": {},
   "outputs": [],
   "source": [
    "no_covid_confirmed=[200064,111151,99444,35398,27707] #source:covid19india.org"
   ]
  },
  {
   "cell_type": "code",
   "execution_count": 3,
   "metadata": {},
   "outputs": [
    {
     "name": "stdout",
     "output_type": "stream",
     "text": [
      "['Maharashtra', 'Tamil Nadu', 'Delhi', 'Gujrat', 'Uttar Pradesh']\n"
     ]
    }
   ],
   "source": [
    "print(names_states)"
   ]
  },
  {
   "cell_type": "code",
   "execution_count": 4,
   "metadata": {},
   "outputs": [
    {
     "name": "stdout",
     "output_type": "stream",
     "text": [
      "[200064, 111151, 99444, 35398, 27707]\n"
     ]
    }
   ],
   "source": [
    "print(no_covid_confirmed)"
   ]
  },
  {
   "cell_type": "code",
   "execution_count": 5,
   "metadata": {},
   "outputs": [],
   "source": [
    "names_states_tuple=(\"Maharashtra\", \"Tamil Nadu\",\"Delhi\", \"Gujrat\", \"Uttar Pradesh\")"
   ]
  },
  {
   "cell_type": "code",
   "execution_count": 6,
   "metadata": {},
   "outputs": [
    {
     "name": "stdout",
     "output_type": "stream",
     "text": [
      "('Maharashtra', 'Tamil Nadu', 'Delhi', 'Gujrat', 'Uttar Pradesh')\n"
     ]
    }
   ],
   "source": [
    "print(names_states_tuple)"
   ]
  },
  {
   "cell_type": "code",
   "execution_count": 7,
   "metadata": {},
   "outputs": [],
   "source": [
    "no_covid_confirmed_tuple=(200064,111151,99444,35398,27707)"
   ]
  },
  {
   "cell_type": "code",
   "execution_count": 8,
   "metadata": {},
   "outputs": [
    {
     "name": "stdout",
     "output_type": "stream",
     "text": [
      "(200064, 111151, 99444, 35398, 27707)\n"
     ]
    }
   ],
   "source": [
    "print(no_covid_confirmed_tuple)"
   ]
  },
  {
   "cell_type": "code",
   "execution_count": 9,
   "metadata": {},
   "outputs": [],
   "source": [
    "no_covid_confirmed_statedata={\"Maharashtra\":200064,\"Tamil Nadu\":111151,\"Delhi\":99444,\"Gujrat\":35398,\"Uttar Pradesh\":27707}"
   ]
  },
  {
   "cell_type": "code",
   "execution_count": 10,
   "metadata": {},
   "outputs": [
    {
     "name": "stdout",
     "output_type": "stream",
     "text": [
      "{'Maharashtra': 200064, 'Tamil Nadu': 111151, 'Delhi': 99444, 'Gujrat': 35398, 'Uttar Pradesh': 27707}\n"
     ]
    }
   ],
   "source": [
    "print(no_covid_confirmed_statedata)"
   ]
  },
  {
   "cell_type": "code",
   "execution_count": null,
   "metadata": {},
   "outputs": [],
   "source": []
  }
 ],
 "metadata": {
  "kernelspec": {
   "display_name": "Python 3",
   "language": "python",
   "name": "python3"
  },
  "language_info": {
   "codemirror_mode": {
    "name": "ipython",
    "version": 3
   },
   "file_extension": ".py",
   "mimetype": "text/x-python",
   "name": "python",
   "nbconvert_exporter": "python",
   "pygments_lexer": "ipython3",
   "version": "3.7.6"
  }
 },
 "nbformat": 4,
 "nbformat_minor": 4
}
