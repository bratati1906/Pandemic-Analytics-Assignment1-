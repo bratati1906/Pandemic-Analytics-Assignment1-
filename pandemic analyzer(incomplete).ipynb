{
 "cells": [
  {
   "cell_type": "code",
   "execution_count": 74,
   "metadata": {},
   "outputs": [],
   "source": [
    "import tkinter\n",
    "\n",
    "# Let's create the Tkinter window.\n",
    "window = tkinter.Tk()\n",
    "window.title(\"Pandemic analytics Engine\")\n",
    "label = tkinter.Label(window, text = \"Pandemic Analyzer\", fg=\"red\").pack()\n",
    "# You will first create a division with the help of Frame class and align them on TOP and BOTTOM with pack() method.\n",
    "top_frame = tkinter.Frame(window).pack()\n",
    "bottom_frame = tkinter.Frame(window).pack(side = \"bottom\")\n",
    "btn1 = tkinter.Button(top_frame, text = \"Maharastra\", bg=\"light grey\").pack() #'fg or foreground' is for coloring the contents (buttons)\n",
    "\n",
    "btn2 = tkinter.Button(top_frame, text = \"123456\",bg = \"yellow\").pack()\n",
    "\n",
    "btn3 = tkinter.Button(top_frame, text = \"14567\", bg = \"light green\").pack() #'side' is used to left or right align the widgets\n",
    "btn4 = tkinter.Button(top_frame, text = \"123\", bg = \"red\").pack()\n",
    "\n",
    "btn5 = tkinter.Button(bottom_frame, text = \"IMR\", bg=\"light grey\").pack(side=\"left\") #'fg or foreground' is for coloring the contents (buttons)\n",
    "\n",
    "btn6 = tkinter.Button(bottom_frame, text = \"CMR\", bg = \"light grey\").pack(side=\"right\")\n",
    "\n",
    "#btn7 = tkinter.Button(bottom_frame, text = \"Button3\", fg = \"grey\").pack() #'side' is used to left or right align the widgets\n",
    "\n",
    "\n",
    "window.mainloop()"
   ]
  },
  {
   "cell_type": "code",
   "execution_count": null,
   "metadata": {},
   "outputs": [],
   "source": []
  },
  {
   "cell_type": "code",
   "execution_count": null,
   "metadata": {},
   "outputs": [],
   "source": []
  }
 ],
 "metadata": {
  "kernelspec": {
   "display_name": "Python 3",
   "language": "python",
   "name": "python3"
  },
  "language_info": {
   "codemirror_mode": {
    "name": "ipython",
    "version": 3
   },
   "file_extension": ".py",
   "mimetype": "text/x-python",
   "name": "python",
   "nbconvert_exporter": "python",
   "pygments_lexer": "ipython3",
   "version": "3.7.6"
  }
 },
 "nbformat": 4,
 "nbformat_minor": 4
}
