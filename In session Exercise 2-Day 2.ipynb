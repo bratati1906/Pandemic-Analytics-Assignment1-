{
 "cells": [
  {
   "cell_type": "markdown",
   "metadata": {},
   "source": [
    "# Covid 19 case-statistics of MUMBAI"
   ]
  },
  {
   "cell_type": "code",
   "execution_count": 3,
   "metadata": {},
   "outputs": [],
   "source": [
    "no_of_infected_till_date=84524"
   ]
  },
  {
   "cell_type": "code",
   "execution_count": 4,
   "metadata": {},
   "outputs": [],
   "source": [
    "no_of_recovered_till_date=55884\n",
    "no_of_deaths_till_date=4899"
   ]
  },
  {
   "cell_type": "code",
   "execution_count": 5,
   "metadata": {},
   "outputs": [],
   "source": [
    "ifr_mumbai=(no_of_infected_till_date - no_of_recovered_till_date)/no_of_deaths_till_date"
   ]
  },
  {
   "cell_type": "code",
   "execution_count": 8,
   "metadata": {},
   "outputs": [],
   "source": [
    "cmr_mumbai=no_of_deaths_till_date/no_of_infected_till_date"
   ]
  },
  {
   "cell_type": "code",
   "execution_count": 12,
   "metadata": {},
   "outputs": [
    {
     "name": "stdout",
     "output_type": "stream",
     "text": [
      "No. of Covid 19 infected till date in Mumbai is:  84524\n",
      "No. of Covid 19 recovered patients till date in Mumbai is:  55884\n",
      "No. of Covid 19 death cases till date in Mumbai is:  4899\n",
      "IFR of Mumbai is:  5.846091038987549\n",
      "CMR of Mumbai is:  0.05795986938620983\n"
     ]
    }
   ],
   "source": [
    "print(\"No. of Covid 19 infected till date in Mumbai is:  {}\".format(no_of_infected_till_date))\n",
    "print(\"No. of Covid 19 recovered patients till date in Mumbai is:  {}\".format(no_of_recovered_till_date))\n",
    "print(\"No. of Covid 19 death cases till date in Mumbai is:  {}\".format(no_of_deaths_till_date))\n",
    "print(\"IFR of Mumbai is:  {}\".format(ifr_mumbai))\n",
    "print(\"CMR of Mumbai is:  {}\".format(cmr_mumbai))"
   ]
  },
  {
   "cell_type": "code",
   "execution_count": null,
   "metadata": {},
   "outputs": [],
   "source": []
  }
 ],
 "metadata": {
  "kernelspec": {
   "display_name": "Python 3",
   "language": "python",
   "name": "python3"
  },
  "language_info": {
   "codemirror_mode": {
    "name": "ipython",
    "version": 3
   },
   "file_extension": ".py",
   "mimetype": "text/x-python",
   "name": "python",
   "nbconvert_exporter": "python",
   "pygments_lexer": "ipython3",
   "version": "3.7.6"
  }
 },
 "nbformat": 4,
 "nbformat_minor": 4
}
